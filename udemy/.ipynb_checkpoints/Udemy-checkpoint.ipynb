{
 "cells": [
  {
   "cell_type": "code",
   "execution_count": 34,
   "metadata": {},
   "outputs": [],
   "source": [
    "import numpy as np\n",
    "import matplotlib\n",
    "import matplotlib.pyplot as plt\n",
    "import pandas as pd\n"
   ]
  },
  {
   "cell_type": "markdown",
   "metadata": {},
   "source": [
    "# Questions to Solve \n",
    "1. What genre is most popular? Num of Reviews / Subjects.\n",
    "3. The relationships between length of courses and num_subscribers( correlation of popularity)\n",
    "4. The relationships between number of subscribers vs number of reviews.\n",
    "5. The relationship between price and subscribers. \n"
   ]
  },
  {
   "cell_type": "code",
   "execution_count": 2,
   "metadata": {},
   "outputs": [],
   "source": [
    "df = pd.read_csv('udemy_courses.csv')"
   ]
  },
  {
   "cell_type": "code",
   "execution_count": 3,
   "metadata": {},
   "outputs": [
    {
     "data": {
      "text/html": [
       "<div>\n",
       "<style scoped>\n",
       "    .dataframe tbody tr th:only-of-type {\n",
       "        vertical-align: middle;\n",
       "    }\n",
       "\n",
       "    .dataframe tbody tr th {\n",
       "        vertical-align: top;\n",
       "    }\n",
       "\n",
       "    .dataframe thead th {\n",
       "        text-align: right;\n",
       "    }\n",
       "</style>\n",
       "<table border=\"1\" class=\"dataframe\">\n",
       "  <thead>\n",
       "    <tr style=\"text-align: right;\">\n",
       "      <th></th>\n",
       "      <th>course_id</th>\n",
       "      <th>course_title</th>\n",
       "      <th>url</th>\n",
       "      <th>is_paid</th>\n",
       "      <th>price</th>\n",
       "      <th>num_subscribers</th>\n",
       "      <th>num_reviews</th>\n",
       "      <th>num_lectures</th>\n",
       "      <th>level</th>\n",
       "      <th>content_duration</th>\n",
       "      <th>published_timestamp</th>\n",
       "      <th>subject</th>\n",
       "    </tr>\n",
       "  </thead>\n",
       "  <tbody>\n",
       "    <tr>\n",
       "      <th>0</th>\n",
       "      <td>1070968</td>\n",
       "      <td>Ultimate Investment Banking Course</td>\n",
       "      <td>https://www.udemy.com/ultimate-investment-bank...</td>\n",
       "      <td>True</td>\n",
       "      <td>200</td>\n",
       "      <td>2147</td>\n",
       "      <td>23</td>\n",
       "      <td>51</td>\n",
       "      <td>All Levels</td>\n",
       "      <td>1.5</td>\n",
       "      <td>2017-01-18T20:58:58Z</td>\n",
       "      <td>Business Finance</td>\n",
       "    </tr>\n",
       "    <tr>\n",
       "      <th>1</th>\n",
       "      <td>1113822</td>\n",
       "      <td>Complete GST Course &amp; Certification - Grow You...</td>\n",
       "      <td>https://www.udemy.com/goods-and-services-tax/</td>\n",
       "      <td>True</td>\n",
       "      <td>75</td>\n",
       "      <td>2792</td>\n",
       "      <td>923</td>\n",
       "      <td>274</td>\n",
       "      <td>All Levels</td>\n",
       "      <td>39.0</td>\n",
       "      <td>2017-03-09T16:34:20Z</td>\n",
       "      <td>Business Finance</td>\n",
       "    </tr>\n",
       "    <tr>\n",
       "      <th>2</th>\n",
       "      <td>1006314</td>\n",
       "      <td>Financial Modeling for Business Analysts and C...</td>\n",
       "      <td>https://www.udemy.com/financial-modeling-for-b...</td>\n",
       "      <td>True</td>\n",
       "      <td>45</td>\n",
       "      <td>2174</td>\n",
       "      <td>74</td>\n",
       "      <td>51</td>\n",
       "      <td>Intermediate Level</td>\n",
       "      <td>2.5</td>\n",
       "      <td>2016-12-19T19:26:30Z</td>\n",
       "      <td>Business Finance</td>\n",
       "    </tr>\n",
       "    <tr>\n",
       "      <th>3</th>\n",
       "      <td>1210588</td>\n",
       "      <td>Beginner to Pro - Financial Analysis in Excel ...</td>\n",
       "      <td>https://www.udemy.com/complete-excel-finance-c...</td>\n",
       "      <td>True</td>\n",
       "      <td>95</td>\n",
       "      <td>2451</td>\n",
       "      <td>11</td>\n",
       "      <td>36</td>\n",
       "      <td>All Levels</td>\n",
       "      <td>3.0</td>\n",
       "      <td>2017-05-30T20:07:24Z</td>\n",
       "      <td>Business Finance</td>\n",
       "    </tr>\n",
       "    <tr>\n",
       "      <th>4</th>\n",
       "      <td>1011058</td>\n",
       "      <td>How To Maximize Your Profits Trading Options</td>\n",
       "      <td>https://www.udemy.com/how-to-maximize-your-pro...</td>\n",
       "      <td>True</td>\n",
       "      <td>200</td>\n",
       "      <td>1276</td>\n",
       "      <td>45</td>\n",
       "      <td>26</td>\n",
       "      <td>Intermediate Level</td>\n",
       "      <td>2.0</td>\n",
       "      <td>2016-12-13T14:57:18Z</td>\n",
       "      <td>Business Finance</td>\n",
       "    </tr>\n",
       "  </tbody>\n",
       "</table>\n",
       "</div>"
      ],
      "text/plain": [
       "   course_id                                       course_title  \\\n",
       "0    1070968                 Ultimate Investment Banking Course   \n",
       "1    1113822  Complete GST Course & Certification - Grow You...   \n",
       "2    1006314  Financial Modeling for Business Analysts and C...   \n",
       "3    1210588  Beginner to Pro - Financial Analysis in Excel ...   \n",
       "4    1011058       How To Maximize Your Profits Trading Options   \n",
       "\n",
       "                                                 url  is_paid  price  \\\n",
       "0  https://www.udemy.com/ultimate-investment-bank...     True    200   \n",
       "1      https://www.udemy.com/goods-and-services-tax/     True     75   \n",
       "2  https://www.udemy.com/financial-modeling-for-b...     True     45   \n",
       "3  https://www.udemy.com/complete-excel-finance-c...     True     95   \n",
       "4  https://www.udemy.com/how-to-maximize-your-pro...     True    200   \n",
       "\n",
       "   num_subscribers  num_reviews  num_lectures               level  \\\n",
       "0             2147           23            51          All Levels   \n",
       "1             2792          923           274          All Levels   \n",
       "2             2174           74            51  Intermediate Level   \n",
       "3             2451           11            36          All Levels   \n",
       "4             1276           45            26  Intermediate Level   \n",
       "\n",
       "   content_duration   published_timestamp           subject  \n",
       "0               1.5  2017-01-18T20:58:58Z  Business Finance  \n",
       "1              39.0  2017-03-09T16:34:20Z  Business Finance  \n",
       "2               2.5  2016-12-19T19:26:30Z  Business Finance  \n",
       "3               3.0  2017-05-30T20:07:24Z  Business Finance  \n",
       "4               2.0  2016-12-13T14:57:18Z  Business Finance  "
      ]
     },
     "execution_count": 3,
     "metadata": {},
     "output_type": "execute_result"
    }
   ],
   "source": [
    "df.head()"
   ]
  },
  {
   "cell_type": "code",
   "execution_count": 4,
   "metadata": {},
   "outputs": [
    {
     "name": "stdout",
     "output_type": "stream",
     "text": [
      "False    3678\n",
      "Name: url, dtype: int64\n"
     ]
    }
   ],
   "source": [
    "print(df.url.isnull().value_counts())"
   ]
  },
  {
   "cell_type": "markdown",
   "metadata": {},
   "source": [
    "## What gets more reviews unpaid udemy courses or paid udemy courses? \n"
   ]
  },
  {
   "cell_type": "code",
   "execution_count": 5,
   "metadata": {},
   "outputs": [
    {
     "data": {
      "text/plain": [
       "True     3368\n",
       "False     310\n",
       "Name: is_paid, dtype: int64"
      ]
     },
     "execution_count": 5,
     "metadata": {},
     "output_type": "execute_result"
    }
   ],
   "source": [
    "(df['is_paid']).value_counts()"
   ]
  },
  {
   "cell_type": "code",
   "execution_count": 6,
   "metadata": {},
   "outputs": [],
   "source": [
    "paid_reviews= df.groupby([\"course_title\",\"is_paid\"],as_index=False)['num_reviews'].sum()"
   ]
  },
  {
   "cell_type": "markdown",
   "metadata": {},
   "source": [
    "## What Course had the most reviews? "
   ]
  },
  {
   "cell_type": "code",
   "execution_count": 7,
   "metadata": {
    "scrolled": true
   },
   "outputs": [
    {
     "data": {
      "text/plain": [
       "course_title    ７日でマスター  ビギナー向け Adobe Illustrator　どきどきセミナー\n",
       "is_paid                                               True\n",
       "num_reviews                                          27445\n",
       "dtype: object"
      ]
     },
     "execution_count": 7,
     "metadata": {},
     "output_type": "execute_result"
    }
   ],
   "source": [
    "paid_reviews.max()"
   ]
  },
  {
   "cell_type": "markdown",
   "metadata": {},
   "source": [
    "#  What course had the the lowest amount of reviews?"
   ]
  },
  {
   "cell_type": "code",
   "execution_count": 8,
   "metadata": {},
   "outputs": [
    {
     "data": {
      "text/plain": [
       "course_title    #1 Piano Hand Coordination: Play 10th Ballad i...\n",
       "is_paid                                                     False\n",
       "num_reviews                                                     0\n",
       "dtype: object"
      ]
     },
     "execution_count": 8,
     "metadata": {},
     "output_type": "execute_result"
    }
   ],
   "source": [
    "paid_reviews.min()"
   ]
  },
  {
   "cell_type": "markdown",
   "metadata": {},
   "source": [
    "## How many Courses have 0 Reviews? "
   ]
  },
  {
   "cell_type": "code",
   "execution_count": 9,
   "metadata": {},
   "outputs": [
    {
     "data": {
      "text/plain": [
       "False    3380\n",
       "True      284\n",
       "Name: num_reviews, dtype: int64"
      ]
     },
     "execution_count": 9,
     "metadata": {},
     "output_type": "execute_result"
    }
   ],
   "source": [
    "(paid_reviews.num_reviews ==0).value_counts()"
   ]
  },
  {
   "cell_type": "markdown",
   "metadata": {},
   "source": [
    "#   # of Courses in Udemy\n"
   ]
  },
  {
   "cell_type": "code",
   "execution_count": 10,
   "metadata": {},
   "outputs": [
    {
     "data": {
      "image/png": "[encoded data removed]",
      "text/plain": [
       "<Figure size 432x288 with 1 Axes>"
      ]
     },
     "metadata": {
      "needs_background": "light"
     },
     "output_type": "display_data"
    }
   ],
   "source": [
    "popular = df['subject'].value_counts().plot(kind='barh',title='Count of Udemy Courses',rot=10);\n",
    "\n"
   ]
  },
  {
   "cell_type": "code",
   "execution_count": 11,
   "metadata": {},
   "outputs": [
    {
     "data": {
      "text/html": [
       "<div>\n",
       "<style scoped>\n",
       "    .dataframe tbody tr th:only-of-type {\n",
       "        vertical-align: middle;\n",
       "    }\n",
       "\n",
       "    .dataframe tbody tr th {\n",
       "        vertical-align: top;\n",
       "    }\n",
       "\n",
       "    .dataframe thead th {\n",
       "        text-align: right;\n",
       "    }\n",
       "</style>\n",
       "<table border=\"1\" class=\"dataframe\">\n",
       "  <thead>\n",
       "    <tr style=\"text-align: right;\">\n",
       "      <th></th>\n",
       "      <th>course_id</th>\n",
       "      <th>course_title</th>\n",
       "      <th>url</th>\n",
       "      <th>is_paid</th>\n",
       "      <th>price</th>\n",
       "      <th>num_subscribers</th>\n",
       "      <th>num_reviews</th>\n",
       "      <th>num_lectures</th>\n",
       "      <th>level</th>\n",
       "      <th>content_duration</th>\n",
       "      <th>published_timestamp</th>\n",
       "      <th>subject</th>\n",
       "    </tr>\n",
       "  </thead>\n",
       "  <tbody>\n",
       "    <tr>\n",
       "      <th>1658</th>\n",
       "      <td>978576</td>\n",
       "      <td>The Complete Figure Drawing Course HD</td>\n",
       "      <td>https://www.udemy.com/the-complete-figure-draw...</td>\n",
       "      <td>True</td>\n",
       "      <td>50</td>\n",
       "      <td>1323</td>\n",
       "      <td>136</td>\n",
       "      <td>225</td>\n",
       "      <td>Beginner Level</td>\n",
       "      <td>78.500000</td>\n",
       "      <td>2016-10-11T21:40:06Z</td>\n",
       "      <td>Graphic Design</td>\n",
       "    </tr>\n",
       "    <tr>\n",
       "      <th>3141</th>\n",
       "      <td>548278</td>\n",
       "      <td>The Complete Web Development Course -  Build 1...</td>\n",
       "      <td>https://www.udemy.com/complete-web-development...</td>\n",
       "      <td>True</td>\n",
       "      <td>200</td>\n",
       "      <td>7501</td>\n",
       "      <td>1213</td>\n",
       "      <td>384</td>\n",
       "      <td>All Levels</td>\n",
       "      <td>76.500000</td>\n",
       "      <td>2015-11-09T22:01:02Z</td>\n",
       "      <td>Web Development</td>\n",
       "    </tr>\n",
       "    <tr>\n",
       "      <th>561</th>\n",
       "      <td>375594</td>\n",
       "      <td>Financial Management - A Complete Study</td>\n",
       "      <td>https://www.udemy.com/financial-management-a-c...</td>\n",
       "      <td>True</td>\n",
       "      <td>190</td>\n",
       "      <td>1941</td>\n",
       "      <td>128</td>\n",
       "      <td>527</td>\n",
       "      <td>All Levels</td>\n",
       "      <td>71.500000</td>\n",
       "      <td>2014-12-22T16:57:30Z</td>\n",
       "      <td>Business Finance</td>\n",
       "    </tr>\n",
       "    <tr>\n",
       "      <th>874</th>\n",
       "      <td>167316</td>\n",
       "      <td>TRADER BOT: Introdução à Linguagem MQL5</td>\n",
       "      <td>https://www.udemy.com/intro-mql5/</td>\n",
       "      <td>True</td>\n",
       "      <td>20</td>\n",
       "      <td>209</td>\n",
       "      <td>33</td>\n",
       "      <td>33</td>\n",
       "      <td>All Levels</td>\n",
       "      <td>70.000000</td>\n",
       "      <td>2014-03-07T15:13:45Z</td>\n",
       "      <td>Business Finance</td>\n",
       "    </tr>\n",
       "    <tr>\n",
       "      <th>1214</th>\n",
       "      <td>62721</td>\n",
       "      <td>Anatomy for Figure Drawing: Mastering the Huma...</td>\n",
       "      <td>https://www.udemy.com/anatomy-for-figure-drawi...</td>\n",
       "      <td>True</td>\n",
       "      <td>95</td>\n",
       "      <td>15500</td>\n",
       "      <td>754</td>\n",
       "      <td>65</td>\n",
       "      <td>All Levels</td>\n",
       "      <td>68.500000</td>\n",
       "      <td>2013-10-16T11:37:30Z</td>\n",
       "      <td>Graphic Design</td>\n",
       "    </tr>\n",
       "    <tr>\n",
       "      <th>...</th>\n",
       "      <td>...</td>\n",
       "      <td>...</td>\n",
       "      <td>...</td>\n",
       "      <td>...</td>\n",
       "      <td>...</td>\n",
       "      <td>...</td>\n",
       "      <td>...</td>\n",
       "      <td>...</td>\n",
       "      <td>...</td>\n",
       "      <td>...</td>\n",
       "      <td>...</td>\n",
       "      <td>...</td>\n",
       "    </tr>\n",
       "    <tr>\n",
       "      <th>718</th>\n",
       "      <td>690546</td>\n",
       "      <td>UK Self Assessment Tax Return Filing Online</td>\n",
       "      <td>https://www.udemy.com/uk-tax-return/</td>\n",
       "      <td>True</td>\n",
       "      <td>20</td>\n",
       "      <td>23</td>\n",
       "      <td>7</td>\n",
       "      <td>6</td>\n",
       "      <td>All Levels</td>\n",
       "      <td>0.466667</td>\n",
       "      <td>2015-12-07T18:36:33Z</td>\n",
       "      <td>Business Finance</td>\n",
       "    </tr>\n",
       "    <tr>\n",
       "      <th>984</th>\n",
       "      <td>439210</td>\n",
       "      <td>Law Matters</td>\n",
       "      <td>https://www.udemy.com/law-matters/</td>\n",
       "      <td>True</td>\n",
       "      <td>20</td>\n",
       "      <td>327</td>\n",
       "      <td>1</td>\n",
       "      <td>12</td>\n",
       "      <td>Beginner Level</td>\n",
       "      <td>0.450000</td>\n",
       "      <td>2015-03-27T17:16:21Z</td>\n",
       "      <td>Business Finance</td>\n",
       "    </tr>\n",
       "    <tr>\n",
       "      <th>448</th>\n",
       "      <td>975074</td>\n",
       "      <td>ALGOTECH Hedge Fund Method for Stock Market Tr...</td>\n",
       "      <td>https://www.udemy.com/algotech-hedge-fund-meth...</td>\n",
       "      <td>True</td>\n",
       "      <td>20</td>\n",
       "      <td>605</td>\n",
       "      <td>19</td>\n",
       "      <td>4</td>\n",
       "      <td>All Levels</td>\n",
       "      <td>0.316667</td>\n",
       "      <td>2016-10-10T21:05:19Z</td>\n",
       "      <td>Business Finance</td>\n",
       "    </tr>\n",
       "    <tr>\n",
       "      <th>116</th>\n",
       "      <td>1191504</td>\n",
       "      <td>How to create a routine Trading</td>\n",
       "      <td>https://www.udemy.com/how-to-create-a-trading-...</td>\n",
       "      <td>True</td>\n",
       "      <td>25</td>\n",
       "      <td>307</td>\n",
       "      <td>8</td>\n",
       "      <td>5</td>\n",
       "      <td>All Levels</td>\n",
       "      <td>0.133333</td>\n",
       "      <td>2017-05-01T18:50:43Z</td>\n",
       "      <td>Business Finance</td>\n",
       "    </tr>\n",
       "    <tr>\n",
       "      <th>892</th>\n",
       "      <td>627332</td>\n",
       "      <td>Mutual Funds for Investors in Retirement Accounts</td>\n",
       "      <td>https://www.udemy.com/mutual-funds-for-investo...</td>\n",
       "      <td>True</td>\n",
       "      <td>20</td>\n",
       "      <td>0</td>\n",
       "      <td>0</td>\n",
       "      <td>0</td>\n",
       "      <td>All Levels</td>\n",
       "      <td>0.000000</td>\n",
       "      <td>2015-12-17T05:38:38Z</td>\n",
       "      <td>Business Finance</td>\n",
       "    </tr>\n",
       "  </tbody>\n",
       "</table>\n",
       "<p>3678 rows × 12 columns</p>\n",
       "</div>"
      ],
      "text/plain": [
       "      course_id                                       course_title  \\\n",
       "1658     978576              The Complete Figure Drawing Course HD   \n",
       "3141     548278  The Complete Web Development Course -  Build 1...   \n",
       "561      375594            Financial Management - A Complete Study   \n",
       "874      167316            TRADER BOT: Introdução à Linguagem MQL5   \n",
       "1214      62721  Anatomy for Figure Drawing: Mastering the Huma...   \n",
       "...         ...                                                ...   \n",
       "718      690546        UK Self Assessment Tax Return Filing Online   \n",
       "984      439210                                        Law Matters   \n",
       "448      975074  ALGOTECH Hedge Fund Method for Stock Market Tr...   \n",
       "116     1191504                    How to create a routine Trading   \n",
       "892      627332  Mutual Funds for Investors in Retirement Accounts   \n",
       "\n",
       "                                                    url  is_paid  price  \\\n",
       "1658  https://www.udemy.com/the-complete-figure-draw...     True     50   \n",
       "3141  https://www.udemy.com/complete-web-development...     True    200   \n",
       "561   https://www.udemy.com/financial-management-a-c...     True    190   \n",
       "874                   https://www.udemy.com/intro-mql5/     True     20   \n",
       "1214  https://www.udemy.com/anatomy-for-figure-drawi...     True     95   \n",
       "...                                                 ...      ...    ...   \n",
       "718                https://www.udemy.com/uk-tax-return/     True     20   \n",
       "984                  https://www.udemy.com/law-matters/     True     20   \n",
       "448   https://www.udemy.com/algotech-hedge-fund-meth...     True     20   \n",
       "116   https://www.udemy.com/how-to-create-a-trading-...     True     25   \n",
       "892   https://www.udemy.com/mutual-funds-for-investo...     True     20   \n",
       "\n",
       "      num_subscribers  num_reviews  num_lectures           level  \\\n",
       "1658             1323          136           225  Beginner Level   \n",
       "3141             7501         1213           384      All Levels   \n",
       "561              1941          128           527      All Levels   \n",
       "874               209           33            33      All Levels   \n",
       "1214            15500          754            65      All Levels   \n",
       "...               ...          ...           ...             ...   \n",
       "718                23            7             6      All Levels   \n",
       "984               327            1            12  Beginner Level   \n",
       "448               605           19             4      All Levels   \n",
       "116               307            8             5      All Levels   \n",
       "892                 0            0             0      All Levels   \n",
       "\n",
       "      content_duration   published_timestamp           subject  \n",
       "1658         78.500000  2016-10-11T21:40:06Z    Graphic Design  \n",
       "3141         76.500000  2015-11-09T22:01:02Z   Web Development  \n",
       "561          71.500000  2014-12-22T16:57:30Z  Business Finance  \n",
       "874          70.000000  2014-03-07T15:13:45Z  Business Finance  \n",
       "1214         68.500000  2013-10-16T11:37:30Z    Graphic Design  \n",
       "...                ...                   ...               ...  \n",
       "718           0.466667  2015-12-07T18:36:33Z  Business Finance  \n",
       "984           0.450000  2015-03-27T17:16:21Z  Business Finance  \n",
       "448           0.316667  2016-10-10T21:05:19Z  Business Finance  \n",
       "116           0.133333  2017-05-01T18:50:43Z  Business Finance  \n",
       "892           0.000000  2015-12-17T05:38:38Z  Business Finance  \n",
       "\n",
       "[3678 rows x 12 columns]"
      ]
     },
     "execution_count": 11,
     "metadata": {},
     "output_type": "execute_result"
    }
   ],
   "source": [
    "df.sort_values(by='content_duration',ascending=False)"
   ]
  },
  {
   "cell_type": "code",
   "execution_count": 12,
   "metadata": {},
   "outputs": [
    {
     "data": {
      "image/png": "[encoded data removed]",
      "text/plain": [
       "<Figure size 432x288 with 1 Axes>"
      ]
     },
     "metadata": {
      "needs_background": "light"
     },
     "output_type": "display_data"
    }
   ],
   "source": [
    "popular = df['level'].value_counts().plot(kind='barh',title='Levels',rot=10);\n"
   ]
  },
  {
   "cell_type": "code",
   "execution_count": 13,
   "metadata": {},
   "outputs": [
    {
     "data": {
      "text/plain": [
       "course_id           675971.963295\n",
       "is_paid                  0.915715\n",
       "price                   66.049483\n",
       "num_subscribers       3197.150625\n",
       "num_reviews            156.259108\n",
       "num_lectures            40.108755\n",
       "content_duration         4.094517\n",
       "dtype: float64"
      ]
     },
     "execution_count": 13,
     "metadata": {},
     "output_type": "execute_result"
    }
   ],
   "source": [
    "df.mean(axis=0)"
   ]
  },
  {
   "cell_type": "markdown",
   "metadata": {},
   "source": [
    "## Average Price of a course is $66.00 from 2011 - 2017"
   ]
  },
  {
   "cell_type": "markdown",
   "metadata": {},
   "source": [
    "# What genre is most popular? Num of Reviews / Subjects.\n"
   ]
  },
  {
   "cell_type": "code",
   "execution_count": 14,
   "metadata": {},
   "outputs": [],
   "source": [
    "popular_genre=df.groupby([\"course_title\",\"published_timestamp\",'subject'],as_index=False)['num_reviews'].sum()"
   ]
  },
  {
   "cell_type": "code",
   "execution_count": 15,
   "metadata": {},
   "outputs": [
    {
     "data": {
      "text/html": [
       "<div>\n",
       "<style scoped>\n",
       "    .dataframe tbody tr th:only-of-type {\n",
       "        vertical-align: middle;\n",
       "    }\n",
       "\n",
       "    .dataframe tbody tr th {\n",
       "        vertical-align: top;\n",
       "    }\n",
       "\n",
       "    .dataframe thead th {\n",
       "        text-align: right;\n",
       "    }\n",
       "</style>\n",
       "<table border=\"1\" class=\"dataframe\">\n",
       "  <thead>\n",
       "    <tr style=\"text-align: right;\">\n",
       "      <th></th>\n",
       "      <th>course_title</th>\n",
       "      <th>published_timestamp</th>\n",
       "      <th>subject</th>\n",
       "      <th>num_reviews</th>\n",
       "    </tr>\n",
       "  </thead>\n",
       "  <tbody>\n",
       "    <tr>\n",
       "      <th>0</th>\n",
       "      <td>#1 Piano Hand Coordination: Play 10th Ballad i...</td>\n",
       "      <td>2014-09-18T05:07:05Z</td>\n",
       "      <td>Musical Instruments</td>\n",
       "      <td>18</td>\n",
       "    </tr>\n",
       "    <tr>\n",
       "      <th>1</th>\n",
       "      <td>#10 Hand Coordination - Transfer Chord Ballad ...</td>\n",
       "      <td>2017-04-12T19:06:34Z</td>\n",
       "      <td>Musical Instruments</td>\n",
       "      <td>1</td>\n",
       "    </tr>\n",
       "    <tr>\n",
       "      <th>2</th>\n",
       "      <td>#12 Hand Coordination: Let your Hands dance wi...</td>\n",
       "      <td>2017-04-26T18:34:57Z</td>\n",
       "      <td>Musical Instruments</td>\n",
       "      <td>1</td>\n",
       "    </tr>\n",
       "    <tr>\n",
       "      <th>3</th>\n",
       "      <td>#4 Piano Hand Coordination: Fun Piano Runs in ...</td>\n",
       "      <td>2017-02-21T23:48:18Z</td>\n",
       "      <td>Musical Instruments</td>\n",
       "      <td>3</td>\n",
       "    </tr>\n",
       "    <tr>\n",
       "      <th>4</th>\n",
       "      <td>#5  Piano Hand Coordination:  Piano Runs in 2 ...</td>\n",
       "      <td>2017-02-21T23:44:49Z</td>\n",
       "      <td>Musical Instruments</td>\n",
       "      <td>3</td>\n",
       "    </tr>\n",
       "  </tbody>\n",
       "</table>\n",
       "</div>"
      ],
      "text/plain": [
       "                                        course_title   published_timestamp  \\\n",
       "0  #1 Piano Hand Coordination: Play 10th Ballad i...  2014-09-18T05:07:05Z   \n",
       "1  #10 Hand Coordination - Transfer Chord Ballad ...  2017-04-12T19:06:34Z   \n",
       "2  #12 Hand Coordination: Let your Hands dance wi...  2017-04-26T18:34:57Z   \n",
       "3  #4 Piano Hand Coordination: Fun Piano Runs in ...  2017-02-21T23:48:18Z   \n",
       "4  #5  Piano Hand Coordination:  Piano Runs in 2 ...  2017-02-21T23:44:49Z   \n",
       "\n",
       "               subject  num_reviews  \n",
       "0  Musical Instruments           18  \n",
       "1  Musical Instruments            1  \n",
       "2  Musical Instruments            1  \n",
       "3  Musical Instruments            3  \n",
       "4  Musical Instruments            3  "
      ]
     },
     "execution_count": 15,
     "metadata": {},
     "output_type": "execute_result"
    }
   ],
   "source": [
    "popular_genre.head()\n"
   ]
  },
  {
   "cell_type": "code",
   "execution_count": 16,
   "metadata": {},
   "outputs": [
    {
     "data": {
      "text/html": [
       "<div>\n",
       "<style scoped>\n",
       "    .dataframe tbody tr th:only-of-type {\n",
       "        vertical-align: middle;\n",
       "    }\n",
       "\n",
       "    .dataframe tbody tr th {\n",
       "        vertical-align: top;\n",
       "    }\n",
       "\n",
       "    .dataframe thead th {\n",
       "        text-align: right;\n",
       "    }\n",
       "</style>\n",
       "<table border=\"1\" class=\"dataframe\">\n",
       "  <thead>\n",
       "    <tr style=\"text-align: right;\">\n",
       "      <th></th>\n",
       "      <th>0</th>\n",
       "      <th>1</th>\n",
       "    </tr>\n",
       "  </thead>\n",
       "  <tbody>\n",
       "    <tr>\n",
       "      <th>0</th>\n",
       "      <td>2014-09-18</td>\n",
       "      <td>05:07:05Z</td>\n",
       "    </tr>\n",
       "    <tr>\n",
       "      <th>1</th>\n",
       "      <td>2017-04-12</td>\n",
       "      <td>19:06:34Z</td>\n",
       "    </tr>\n",
       "    <tr>\n",
       "      <th>2</th>\n",
       "      <td>2017-04-26</td>\n",
       "      <td>18:34:57Z</td>\n",
       "    </tr>\n",
       "    <tr>\n",
       "      <th>3</th>\n",
       "      <td>2017-02-21</td>\n",
       "      <td>23:48:18Z</td>\n",
       "    </tr>\n",
       "    <tr>\n",
       "      <th>4</th>\n",
       "      <td>2017-02-21</td>\n",
       "      <td>23:44:49Z</td>\n",
       "    </tr>\n",
       "    <tr>\n",
       "      <th>...</th>\n",
       "      <td>...</td>\n",
       "      <td>...</td>\n",
       "    </tr>\n",
       "    <tr>\n",
       "      <th>3667</th>\n",
       "      <td>2016-12-03</td>\n",
       "      <td>14:55:06Z</td>\n",
       "    </tr>\n",
       "    <tr>\n",
       "      <th>3668</th>\n",
       "      <td>2016-12-14</td>\n",
       "      <td>01:25:19Z</td>\n",
       "    </tr>\n",
       "    <tr>\n",
       "      <th>3669</th>\n",
       "      <td>2017-02-06</td>\n",
       "      <td>21:39:19Z</td>\n",
       "    </tr>\n",
       "    <tr>\n",
       "      <th>3670</th>\n",
       "      <td>2015-11-10</td>\n",
       "      <td>00:22:05Z</td>\n",
       "    </tr>\n",
       "    <tr>\n",
       "      <th>3671</th>\n",
       "      <td>2015-08-19</td>\n",
       "      <td>01:06:26Z</td>\n",
       "    </tr>\n",
       "  </tbody>\n",
       "</table>\n",
       "<p>3672 rows × 2 columns</p>\n",
       "</div>"
      ],
      "text/plain": [
       "               0          1\n",
       "0     2014-09-18  05:07:05Z\n",
       "1     2017-04-12  19:06:34Z\n",
       "2     2017-04-26  18:34:57Z\n",
       "3     2017-02-21  23:48:18Z\n",
       "4     2017-02-21  23:44:49Z\n",
       "...          ...        ...\n",
       "3667  2016-12-03  14:55:06Z\n",
       "3668  2016-12-14  01:25:19Z\n",
       "3669  2017-02-06  21:39:19Z\n",
       "3670  2015-11-10  00:22:05Z\n",
       "3671  2015-08-19  01:06:26Z\n",
       "\n",
       "[3672 rows x 2 columns]"
      ]
     },
     "execution_count": 16,
     "metadata": {},
     "output_type": "execute_result"
    }
   ],
   "source": [
    "popular_genre.published_timestamp.str.split('T',n=1,expand=True)"
   ]
  },
  {
   "cell_type": "code",
   "execution_count": 17,
   "metadata": {},
   "outputs": [],
   "source": [
    "new = popular_genre.published_timestamp.str.split('T',n=1,expand=True)\n"
   ]
  },
  {
   "cell_type": "code",
   "execution_count": 18,
   "metadata": {},
   "outputs": [],
   "source": [
    "popular_genre['Date'] = new[0]"
   ]
  },
  {
   "cell_type": "code",
   "execution_count": 19,
   "metadata": {},
   "outputs": [],
   "source": [
    "popular_genre['TimeZone'] = new[1]"
   ]
  },
  {
   "cell_type": "code",
   "execution_count": 20,
   "metadata": {},
   "outputs": [],
   "source": [
    "popular_genre.drop(columns=['published_timestamp'],inplace=True)"
   ]
  },
  {
   "cell_type": "code",
   "execution_count": 21,
   "metadata": {},
   "outputs": [
    {
     "data": {
      "text/html": [
       "<div>\n",
       "<style scoped>\n",
       "    .dataframe tbody tr th:only-of-type {\n",
       "        vertical-align: middle;\n",
       "    }\n",
       "\n",
       "    .dataframe tbody tr th {\n",
       "        vertical-align: top;\n",
       "    }\n",
       "\n",
       "    .dataframe thead th {\n",
       "        text-align: right;\n",
       "    }\n",
       "</style>\n",
       "<table border=\"1\" class=\"dataframe\">\n",
       "  <thead>\n",
       "    <tr style=\"text-align: right;\">\n",
       "      <th></th>\n",
       "      <th>course_title</th>\n",
       "      <th>subject</th>\n",
       "      <th>num_reviews</th>\n",
       "      <th>Date</th>\n",
       "      <th>TimeZone</th>\n",
       "    </tr>\n",
       "  </thead>\n",
       "  <tbody>\n",
       "    <tr>\n",
       "      <th>1982</th>\n",
       "      <td>Javascript for Beginners</td>\n",
       "      <td>Web Development</td>\n",
       "      <td>195</td>\n",
       "      <td>2011-07-09</td>\n",
       "      <td>05:43:31Z</td>\n",
       "    </tr>\n",
       "    <tr>\n",
       "      <th>1499</th>\n",
       "      <td>HTML Tutorial: HTML &amp; CSS for Beginners</td>\n",
       "      <td>Web Development</td>\n",
       "      <td>253</td>\n",
       "      <td>2011-09-09</td>\n",
       "      <td>15:28:59Z</td>\n",
       "    </tr>\n",
       "    <tr>\n",
       "      <th>428</th>\n",
       "      <td>Become a Web Developer from Scratch</td>\n",
       "      <td>Web Development</td>\n",
       "      <td>2408</td>\n",
       "      <td>2011-11-19</td>\n",
       "      <td>21:51:20Z</td>\n",
       "    </tr>\n",
       "    <tr>\n",
       "      <th>2280</th>\n",
       "      <td>Learn jQuery: An In-depth Course For Beginners</td>\n",
       "      <td>Web Development</td>\n",
       "      <td>95</td>\n",
       "      <td>2011-11-29</td>\n",
       "      <td>01:29:11Z</td>\n",
       "    </tr>\n",
       "    <tr>\n",
       "      <th>416</th>\n",
       "      <td>Become a Certified Web Developer</td>\n",
       "      <td>Web Development</td>\n",
       "      <td>1090</td>\n",
       "      <td>2011-12-20</td>\n",
       "      <td>15:29:25Z</td>\n",
       "    </tr>\n",
       "    <tr>\n",
       "      <th>...</th>\n",
       "      <td>...</td>\n",
       "      <td>...</td>\n",
       "      <td>...</td>\n",
       "      <td>...</td>\n",
       "      <td>...</td>\n",
       "    </tr>\n",
       "    <tr>\n",
       "      <th>1322</th>\n",
       "      <td>Forex how traders beat the markest with little...</td>\n",
       "      <td>Business Finance</td>\n",
       "      <td>0</td>\n",
       "      <td>2017-07-06</td>\n",
       "      <td>21:16:13Z</td>\n",
       "    </tr>\n",
       "    <tr>\n",
       "      <th>941</th>\n",
       "      <td>Cryptocurrency (BTC &amp; ETH) Investment &amp; Tradin...</td>\n",
       "      <td>Business Finance</td>\n",
       "      <td>0</td>\n",
       "      <td>2017-07-06</td>\n",
       "      <td>21:46:30Z</td>\n",
       "    </tr>\n",
       "    <tr>\n",
       "      <th>2688</th>\n",
       "      <td>Photoshop isn't like what you imagine A to Z .</td>\n",
       "      <td>Graphic Design</td>\n",
       "      <td>0</td>\n",
       "      <td>2017-07-06</td>\n",
       "      <td>03:32:48Z</td>\n",
       "    </tr>\n",
       "    <tr>\n",
       "      <th>78</th>\n",
       "      <td>ABRSM Grade III Piano Class - Handel Sonatina ...</td>\n",
       "      <td>Musical Instruments</td>\n",
       "      <td>0</td>\n",
       "      <td>2017-07-06</td>\n",
       "      <td>16:12:34Z</td>\n",
       "    </tr>\n",
       "    <tr>\n",
       "      <th>273</th>\n",
       "      <td>Angular 4 Front To Back</td>\n",
       "      <td>Web Development</td>\n",
       "      <td>0</td>\n",
       "      <td>2017-07-06</td>\n",
       "      <td>15:04:55Z</td>\n",
       "    </tr>\n",
       "  </tbody>\n",
       "</table>\n",
       "<p>3672 rows × 5 columns</p>\n",
       "</div>"
      ],
      "text/plain": [
       "                                           course_title              subject  \\\n",
       "1982                           Javascript for Beginners      Web Development   \n",
       "1499            HTML Tutorial: HTML & CSS for Beginners      Web Development   \n",
       "428                 Become a Web Developer from Scratch      Web Development   \n",
       "2280     Learn jQuery: An In-depth Course For Beginners      Web Development   \n",
       "416                    Become a Certified Web Developer      Web Development   \n",
       "...                                                 ...                  ...   \n",
       "1322  Forex how traders beat the markest with little...     Business Finance   \n",
       "941   Cryptocurrency (BTC & ETH) Investment & Tradin...     Business Finance   \n",
       "2688     Photoshop isn't like what you imagine A to Z .       Graphic Design   \n",
       "78    ABRSM Grade III Piano Class - Handel Sonatina ...  Musical Instruments   \n",
       "273                             Angular 4 Front To Back      Web Development   \n",
       "\n",
       "      num_reviews        Date   TimeZone  \n",
       "1982          195  2011-07-09  05:43:31Z  \n",
       "1499          253  2011-09-09  15:28:59Z  \n",
       "428          2408  2011-11-19  21:51:20Z  \n",
       "2280           95  2011-11-29  01:29:11Z  \n",
       "416          1090  2011-12-20  15:29:25Z  \n",
       "...           ...         ...        ...  \n",
       "1322            0  2017-07-06  21:16:13Z  \n",
       "941             0  2017-07-06  21:46:30Z  \n",
       "2688            0  2017-07-06  03:32:48Z  \n",
       "78              0  2017-07-06  16:12:34Z  \n",
       "273             0  2017-07-06  15:04:55Z  \n",
       "\n",
       "[3672 rows x 5 columns]"
      ]
     },
     "execution_count": 21,
     "metadata": {},
     "output_type": "execute_result"
    }
   ],
   "source": [
    "popular_genre.sort_values(by=\"Date\",ascending=True)"
   ]
  },
  {
   "cell_type": "code",
   "execution_count": 22,
   "metadata": {},
   "outputs": [
    {
     "ename": "SyntaxError",
     "evalue": "unexpected EOF while parsing (<ipython-input-22-507303bf0b0c>, line 1)",
     "output_type": "error",
     "traceback": [
      "\u001b[0;36m  File \u001b[0;32m\"<ipython-input-22-507303bf0b0c>\"\u001b[0;36m, line \u001b[0;32m1\u001b[0m\n\u001b[0;31m    popular_genre[popular_genre.Date.between('2011','2012')].max(\u001b[0m\n\u001b[0m                                                                 ^\u001b[0m\n\u001b[0;31mSyntaxError\u001b[0m\u001b[0;31m:\u001b[0m unexpected EOF while parsing\n"
     ]
    }
   ],
   "source": [
    "popular_genre[popular_genre.Date.between('2011','2012')].max("
   ]
  },
  {
   "cell_type": "markdown",
   "metadata": {},
   "source": [
    " Most popular course per year."
   ]
  },
  {
   "cell_type": "code",
   "execution_count": null,
   "metadata": {},
   "outputs": [],
   "source": [
    "pg_2011= popular_genre[popular_genre.Date.between('2011','2012')]\n",
    "pg_2012=popular_genre[popular_genre.Date.between('2012','2013')]\n",
    "pg_2013=popular_genre[popular_genre.Date.between('2013','2014')]\n",
    "pg_2014=popular_genre[popular_genre.Date.between('2014','2015')]\n",
    "pg_2015=popular_genre[popular_genre.Date.between('2015','2016')]\n",
    "pg_2016=popular_genre[popular_genre.Date.between('2016','2017')]\n",
    "pg_2017=popular_genre[popular_genre.Date.between('2017','2018')]"
   ]
  },
  {
   "cell_type": "code",
   "execution_count": null,
   "metadata": {},
   "outputs": [],
   "source": [
    "pg_2017.max()"
   ]
  },
  {
   "cell_type": "markdown",
   "metadata": {},
   "source": [
    "Most Popular Course is  캔바(Canva)로 SNS 콘텐츠 만들기 of 2017 "
   ]
  },
  {
   "cell_type": "code",
   "execution_count": null,
   "metadata": {},
   "outputs": [],
   "source": [
    "pg_2016.max()"
   ]
  },
  {
   "cell_type": "markdown",
   "metadata": {},
   "source": [
    "Most Popular Course is 超基礎！超入門！〜作りながら学ぶ。完全無料3DCGソフトBlender〜 of 2016 "
   ]
  },
  {
   "cell_type": "code",
   "execution_count": null,
   "metadata": {},
   "outputs": [],
   "source": [
    "pg_2015.max()"
   ]
  },
  {
   "cell_type": "markdown",
   "metadata": {},
   "source": [
    "Most Popular Course is ７日でマスター  ビギナー向け Adobe Illustrator　どきどきセミナー of 2015 "
   ]
  },
  {
   "cell_type": "code",
   "execution_count": null,
   "metadata": {},
   "outputs": [],
   "source": [
    "pg_2014.max()"
   ]
  },
  {
   "cell_type": "markdown",
   "metadata": {},
   "source": [
    "Most Popular Course is 初めてのiDraw入門 of 2014\n"
   ]
  },
  {
   "cell_type": "code",
   "execution_count": null,
   "metadata": {},
   "outputs": [],
   "source": [
    "pg_2013.max()"
   ]
  },
  {
   "cell_type": "markdown",
   "metadata": {},
   "source": [
    "Most Popular Course is jQuery UI In Depth 2013"
   ]
  },
  {
   "cell_type": "code",
   "execution_count": null,
   "metadata": {},
   "outputs": [],
   "source": [
    "pg_2012.max()"
   ]
  },
  {
   "cell_type": "markdown",
   "metadata": {},
   "source": [
    "Most Popular Course is iPhone icons gone awesome 2012"
   ]
  },
  {
   "cell_type": "code",
   "execution_count": null,
   "metadata": {},
   "outputs": [],
   "source": [
    "pg_2011.max()"
   ]
  },
  {
   "cell_type": "markdown",
   "metadata": {},
   "source": [
    " Most Popular Course is Learn jQuery: An In-depth Course For Beginners for 2011"
   ]
  },
  {
   "cell_type": "markdown",
   "metadata": {},
   "source": [
    "## What genre is most popular? Num of Reviews / Subjects."
   ]
  },
  {
   "cell_type": "code",
   "execution_count": null,
   "metadata": {},
   "outputs": [],
   "source": [
    "df.head()"
   ]
  },
  {
   "cell_type": "markdown",
   "metadata": {},
   "source": [
    "# The relationships between length of courses and num_subscribers( correlation of popularity"
   ]
  },
  {
   "cell_type": "code",
   "execution_count": 23,
   "metadata": {
    "scrolled": true
   },
   "outputs": [
    {
     "data": {
      "text/html": [
       "<div>\n",
       "<style scoped>\n",
       "    .dataframe tbody tr th:only-of-type {\n",
       "        vertical-align: middle;\n",
       "    }\n",
       "\n",
       "    .dataframe tbody tr th {\n",
       "        vertical-align: top;\n",
       "    }\n",
       "\n",
       "    .dataframe thead th {\n",
       "        text-align: right;\n",
       "    }\n",
       "</style>\n",
       "<table border=\"1\" class=\"dataframe\">\n",
       "  <thead>\n",
       "    <tr style=\"text-align: right;\">\n",
       "      <th></th>\n",
       "      <th>course_id</th>\n",
       "      <th>course_title</th>\n",
       "      <th>url</th>\n",
       "      <th>is_paid</th>\n",
       "      <th>price</th>\n",
       "      <th>num_subscribers</th>\n",
       "      <th>num_reviews</th>\n",
       "      <th>num_lectures</th>\n",
       "      <th>level</th>\n",
       "      <th>content_duration</th>\n",
       "      <th>published_timestamp</th>\n",
       "      <th>subject</th>\n",
       "    </tr>\n",
       "  </thead>\n",
       "  <tbody>\n",
       "    <tr>\n",
       "      <th>0</th>\n",
       "      <td>1070968</td>\n",
       "      <td>Ultimate Investment Banking Course</td>\n",
       "      <td>https://www.udemy.com/ultimate-investment-bank...</td>\n",
       "      <td>True</td>\n",
       "      <td>200</td>\n",
       "      <td>2147</td>\n",
       "      <td>23</td>\n",
       "      <td>51</td>\n",
       "      <td>All Levels</td>\n",
       "      <td>1.5</td>\n",
       "      <td>2017-01-18T20:58:58Z</td>\n",
       "      <td>Business Finance</td>\n",
       "    </tr>\n",
       "    <tr>\n",
       "      <th>1</th>\n",
       "      <td>1113822</td>\n",
       "      <td>Complete GST Course &amp; Certification - Grow You...</td>\n",
       "      <td>https://www.udemy.com/goods-and-services-tax/</td>\n",
       "      <td>True</td>\n",
       "      <td>75</td>\n",
       "      <td>2792</td>\n",
       "      <td>923</td>\n",
       "      <td>274</td>\n",
       "      <td>All Levels</td>\n",
       "      <td>39.0</td>\n",
       "      <td>2017-03-09T16:34:20Z</td>\n",
       "      <td>Business Finance</td>\n",
       "    </tr>\n",
       "    <tr>\n",
       "      <th>2</th>\n",
       "      <td>1006314</td>\n",
       "      <td>Financial Modeling for Business Analysts and C...</td>\n",
       "      <td>https://www.udemy.com/financial-modeling-for-b...</td>\n",
       "      <td>True</td>\n",
       "      <td>45</td>\n",
       "      <td>2174</td>\n",
       "      <td>74</td>\n",
       "      <td>51</td>\n",
       "      <td>Intermediate Level</td>\n",
       "      <td>2.5</td>\n",
       "      <td>2016-12-19T19:26:30Z</td>\n",
       "      <td>Business Finance</td>\n",
       "    </tr>\n",
       "    <tr>\n",
       "      <th>3</th>\n",
       "      <td>1210588</td>\n",
       "      <td>Beginner to Pro - Financial Analysis in Excel ...</td>\n",
       "      <td>https://www.udemy.com/complete-excel-finance-c...</td>\n",
       "      <td>True</td>\n",
       "      <td>95</td>\n",
       "      <td>2451</td>\n",
       "      <td>11</td>\n",
       "      <td>36</td>\n",
       "      <td>All Levels</td>\n",
       "      <td>3.0</td>\n",
       "      <td>2017-05-30T20:07:24Z</td>\n",
       "      <td>Business Finance</td>\n",
       "    </tr>\n",
       "    <tr>\n",
       "      <th>4</th>\n",
       "      <td>1011058</td>\n",
       "      <td>How To Maximize Your Profits Trading Options</td>\n",
       "      <td>https://www.udemy.com/how-to-maximize-your-pro...</td>\n",
       "      <td>True</td>\n",
       "      <td>200</td>\n",
       "      <td>1276</td>\n",
       "      <td>45</td>\n",
       "      <td>26</td>\n",
       "      <td>Intermediate Level</td>\n",
       "      <td>2.0</td>\n",
       "      <td>2016-12-13T14:57:18Z</td>\n",
       "      <td>Business Finance</td>\n",
       "    </tr>\n",
       "  </tbody>\n",
       "</table>\n",
       "</div>"
      ],
      "text/plain": [
       "   course_id                                       course_title  \\\n",
       "0    1070968                 Ultimate Investment Banking Course   \n",
       "1    1113822  Complete GST Course & Certification - Grow You...   \n",
       "2    1006314  Financial Modeling for Business Analysts and C...   \n",
       "3    1210588  Beginner to Pro - Financial Analysis in Excel ...   \n",
       "4    1011058       How To Maximize Your Profits Trading Options   \n",
       "\n",
       "                                                 url  is_paid  price  \\\n",
       "0  https://www.udemy.com/ultimate-investment-bank...     True    200   \n",
       "1      https://www.udemy.com/goods-and-services-tax/     True     75   \n",
       "2  https://www.udemy.com/financial-modeling-for-b...     True     45   \n",
       "3  https://www.udemy.com/complete-excel-finance-c...     True     95   \n",
       "4  https://www.udemy.com/how-to-maximize-your-pro...     True    200   \n",
       "\n",
       "   num_subscribers  num_reviews  num_lectures               level  \\\n",
       "0             2147           23            51          All Levels   \n",
       "1             2792          923           274          All Levels   \n",
       "2             2174           74            51  Intermediate Level   \n",
       "3             2451           11            36          All Levels   \n",
       "4             1276           45            26  Intermediate Level   \n",
       "\n",
       "   content_duration   published_timestamp           subject  \n",
       "0               1.5  2017-01-18T20:58:58Z  Business Finance  \n",
       "1              39.0  2017-03-09T16:34:20Z  Business Finance  \n",
       "2               2.5  2016-12-19T19:26:30Z  Business Finance  \n",
       "3               3.0  2017-05-30T20:07:24Z  Business Finance  \n",
       "4               2.0  2016-12-13T14:57:18Z  Business Finance  "
      ]
     },
     "execution_count": 23,
     "metadata": {},
     "output_type": "execute_result"
    }
   ],
   "source": [
    "df.head()"
   ]
  },
  {
   "cell_type": "code",
   "execution_count": 83,
   "metadata": {},
   "outputs": [
    {
     "name": "stdout",
     "output_type": "stream",
     "text": [
      "[[1.         0.16183868]\n",
      " [0.16183868 1.        ]]\n"
     ]
    }
   ],
   "source": [
    "print(np.corrcoef(df.num_subscribers,df.content_duration))"
   ]
  },
  {
   "cell_type": "markdown",
   "metadata": {},
   "source": [
    "No relatoinships between subscribers and content_duration"
   ]
  },
  {
   "cell_type": "code",
   "execution_count": 84,
   "metadata": {},
   "outputs": [
    {
     "name": "stdout",
     "output_type": "stream",
     "text": [
      "[[1.         0.64994554]\n",
      " [0.64994554 1.        ]]\n"
     ]
    }
   ],
   "source": [
    "print(np.corrcoef(df.num_subscribers,df.num_reviews))\n"
   ]
  },
  {
   "cell_type": "code",
   "execution_count": 103,
   "metadata": {},
   "outputs": [
    {
     "name": "stdout",
     "output_type": "stream",
     "text": [
      "[[1.         0.11369592]\n",
      " [0.11369592 1.        ]]\n"
     ]
    }
   ],
   "source": [
    "print(np.corrcoef(df.price,df.num_reviews))\n"
   ]
  },
  {
   "cell_type": "markdown",
   "metadata": {},
   "source": [
    "No replationship between price and number of reviews.\n",
    "\n",
    "No replationship between subscribers and number of reviews."
   ]
  },
  {
   "cell_type": "markdown",
   "metadata": {},
   "source": [
    " Postive relationship between number of subscribers and number of reviews duh."
   ]
  },
  {
   "cell_type": "code",
   "execution_count": null,
   "metadata": {},
   "outputs": [],
   "source": []
  }
 ],
 "metadata": {
  "kernelspec": {
   "display_name": "Python 3",
   "language": "python",
   "name": "python3"
  },
  "language_info": {
   "codemirror_mode": {
    "name": "ipython",
    "version": 3
   },
   "file_extension": ".py",
   "mimetype": "text/x-python",
   "name": "python",
   "nbconvert_exporter": "python",
   "pygments_lexer": "ipython3",
   "version": "3.7.7"
  }
 },
 "nbformat": 4,
 "nbformat_minor": 4
}
